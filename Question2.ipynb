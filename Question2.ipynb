{
 "cells": [
  {
   "attachments": {},
   "cell_type": "markdown",
   "metadata": {},
   "source": [
    "Four equations for the rate of changes of the four species, E, S, ES, and P\n",
    "1.(d[P])/dt=k3*[ES]\n",
    "2.(d[ES])/dt=k1[E][S]-k2[ES]-k3[ES]\n",
    "3.(d[S])/dt=-k1[E][S] + k2[ES]\n",
    "4.(d[E])/dt=-k1[E][S] + K2 [ES] +k3[P]\n"
   ]
  },
  {
   "cell_type": "code",
   "execution_count": 8,
   "metadata": {},
   "outputs": [
    {
     "name": "stdout",
     "output_type": "stream",
     "text": [
      "t(min)\t[E] (µM))\t[S] (µM)\t[ES] (µM)\t[P] (µM)\n",
      "0.00\t1.0000\t10.000000\t0.000000\t0.0000\n",
      "0.60\t1.0000\t10.000000\t0.000000\t0.0000\n",
      "1.20\t1.0000\t10.000000\t0.000000\t0.0000\n",
      "1.80\t1.0000\t10.000000\t0.000000\t0.0000\n",
      "2.40\t1.0000\t10.000000\t0.000000\t0.0000\n",
      "3.00\t1.0000\t10.000000\t0.000000\t0.0000\n"
     ]
    },
    {
     "data": {
      "image/png": "[encoded data removed]",
      "text/plain": [
       "<Figure size 640x480 with 1 Axes>"
      ]
     },
     "metadata": {},
     "output_type": "display_data"
    }
   ],
   "source": [
    "import numpy as np\n",
    "#NumPy is needed to create and manipulate arrays\n",
    "\n",
    "\n",
    "#To use the fourth-order Runge-Kutta method, \n",
    "# we need to define a function that computes the derivatives of the variables at each time step.\n",
    "# t is the time variable, y is an array containing the concentrations of [E, S, ES, P] at time t, \n",
    "# and dydt is an array containing the corresponding time derivatives.\n",
    "def f(t,y):\n",
    "    k1 = 100/1e6/60\n",
    "    k2=600/60\n",
    "    k3=150/60\n",
    "\n",
    "\n",
    "# np.zeros is a function to perform vectorized calculations\n",
    "# np.zeros(4) creates a NumPy array of length 4, with all elements initialized to 0\n",
    "#The dydt variable represents the rate of change of the concentrations of the four species ([E], [S], [ES], \n",
    "# and [P]) with respect to time, at a given time point t and given concentrations y of these species.\n",
    "\n",
    "\n",
    "#The next four lines update the values of dydt according to a system of differential equations,\n",
    "#which are specific to the reaction being modeled.\n",
    "\n",
    "#dydt[0] represents the time derivative of [E], dydt[1] represents the time derivative of [S], \n",
    "# dydt[2] represents the time derivative of [ES], and dydt[3] represents the time derivative of [P]\n",
    "\n",
    "#The negative sign in front of k1 indicates that the concentration\n",
    "# of [E] and [S] decrease over time as they are consumed in the formation of the ES complex.\n",
    "#k2*y[2] represents the rate at which ES complex is consumed due to its conversion to product P, \n",
    "# and -k3*y[2] represents the rate at which ES complex is consumed due to its conversion to E and P.\n",
    "\n",
    "#use the return statement to return the dydt array from the function, which is subsequently used \n",
    "# in the fourth-order Runge-Kutta method to approximate the concentrations of [E], [S], [ES], and \n",
    "# [P] at various time points\n",
    "    dydt=np.zeros(4)\n",
    "    dydt[0]=-k1*y[0]*y[1]+k2*y[2]+k3*y[2]\n",
    "    dydt[1]=-k1*y[0]*y[1]+k2*y[2]\n",
    "    dydt[2]=k1*y[0]*y[1]-k2*y[2]-k3*y[2]\n",
    "    dydt[3]=k3*y[2]\n",
    "    return dydt\n",
    "\n",
    "\n",
    "# Define the time range and step size.\n",
    "# t0, tf, and h, which represent the starting time, ending time, and time step size\n",
    "t0=0\n",
    "tf=5\n",
    "h=0.01\n",
    "#tf-t0 gives the total simulation time, and h is the time step size. The expression (tf-t0/h) \n",
    "# calculates the number of steps that would be required to reach the final time tf with a step size of h.\n",
    "\n",
    "#The int() function rounds this value down to the nearest integer. \n",
    "# Adding 1 to this value ensures that we include the initial time step.\n",
    "\n",
    "#Thus, n represents the total number of time steps that will be used in the simulation. \n",
    "# This value is used to initialize the t and y arrays, \n",
    "#which will store the concentrations of [E], [S], [ES], and [P] at each time point.\n",
    "n=int((tf-t0/h))+1\n",
    "\n",
    "#t=np.zeros(n) and y=np.zeros((n,4)) is to initialize two arrays to store the time \n",
    "# and the concentration values of each chemical species at different time points during the simulation\n",
    "# y=np.zeros((n,4)) is to creates a two-dimensional array of size n x 4\n",
    "# Each row will represent concentration value of each species \n",
    "# the first column of the array y[:,0] - store the concentration of substrate [S]\n",
    "# the second column of the array y[:,1] - store the concentration of enzyme [E]\n",
    "# the third column y[:,2] - store the concentration of enzyme-substrate complex [ES]\n",
    "# the fourth column y[:,3] -store the concentration of product [P]\n",
    "t=np.zeros(n)\n",
    "y=np.zeros((n,4))\n",
    "\n",
    "# y[0,0] sets the initial concentration of [E] at time 0\n",
    "# initial concentration of [E] is set to be 1 µM (i.e., 1e-6 M),given\n",
    "# y[0,1] sets the initial concentration of [S] at time 0\n",
    "# initial concentration of [S] to 10 µM (i.e., 10e-6 M),given \n",
    "y[0,0]=1e-6\n",
    "y[0,1]=10e-6\n",
    "\n",
    "#This code is implementing the fourth-order Runge-Kutta method\n",
    "#  to numerically solve a system of differential equations.\n",
    "\n",
    "#In the loop, k1 is computed by evaluating the function f (which represents\n",
    "# the differential equations) at the current time t[i] and concentrations y[i].\n",
    "# k2 is computed by evaluating f at t[i] + h/2 and y[i] + h/2*k1\n",
    "#These four k values are then used to update the concentrations\n",
    "# y and the time t using the fourth-order Runge-Kutta method formula.\n",
    "#Calculate the slopes k1 for each equation at time t0.\n",
    "#Calculate the slopes k2 for each equation at time t0 + h/2, where h is the time step size.\n",
    "#Calculate the slopes k3 for each equation at time t0 + h/2.\n",
    "#Calculate the slopes k4 for each equation at time t0 + h.\n",
    "\n",
    "for i in range(n-1):\n",
    "    k1 = f(t[i],y[i])\n",
    "    k2 = f(t[i]+h/2,y[i]+h/2*k1)\n",
    "    k3=f(t[i]+h/2,y[i]+h/2*k2)\n",
    "    k4=f(t[i]+h,y[i]+h*k3)\n",
    "  \n",
    "    \n",
    "#the average of the four slopes k1, k2, k3, and k4 is calculated using a weighted average\n",
    "#This weighted average is then multiplied by h (the time step) \n",
    "# and added to the value of y at the i-th time step to obtain the value of y at the i+1-th time step\n",
    "    y[i+1]=y[i]+h/6*(k1+2*k2+2*k3+k4)\n",
    "#t[i+1]=t[i]+h updates the time at the next time step. Here, h is the step size, which determines the \n",
    "# size of the time interval between successive time steps. \n",
    "# Therefore, t[i+1] represents the time at the next time step, which is simply the current \n",
    "# time t[i] plus the step size h. This is repeated for each time step until the end time is reached.\n",
    "    t[i+1]=t[i]+h\n",
    "\n",
    "#This line of code prints a header for the table of results that will be printed in the following loop.\n",
    "print(\"t(min)\\t[E] (µM))\\t[S] (µM)\\t[ES] (µM)\\t[P] (µM)\")\n",
    "\n",
    "#This code is printing the values of time (in minutes), \n",
    "# concentrations of different substances (in µM) at each time step during the simulation\n",
    "for i in range(n):\n",
    "    print (\"{:.2f}\\t{:.4f}\\t{:4f}\\t{:4f}\\t{:.4f}\".format(t[i]*60,y[i,0]*1e6,y[i,1]*1e6,y[i,2]*1e6,y[i,3]*1e6))\n",
    "\n",
    "#Question : calculate the velocity as the rate of change of the product Plot the velocity V as a function of the substrate concentration S\n",
    "#to create a plot of the velocity of the enzymatic reaction as a function of the substrate concentration\n",
    "#The pyplot module from matplotlib is needed for creating visualizations in Python.\n",
    "\n",
    "import matplotlib.pyplot as plt\n",
    "\n",
    "\n",
    "#np.gradient()is used to calculate the derivative of the product concentration array with respect to time, \n",
    "# thus obtaining the velocity of the reaction at each time point\n",
    "#y[:,3] is the concentration of the product P at each time point\n",
    "# y[:,3],t--> means to select all rows in the fourth column of the array y, \n",
    "# while t represents the time points \n",
    "#y[:,3] represents the concentration of the product P, and t represents time. \n",
    "#Therefore, v represents the velocity or rate of change of the product P with respect to time\n",
    "v=np.gradient (y[:,3],t)\n",
    "\n",
    "#The plt.plot()function takes one or more arrays of data and plots them on a graph. \n",
    "# By default, it plots a line chart\n",
    "#plt.plot(y[:,1],v) is to create a  plot of v against y[:,1]-->y-axis\n",
    "#y[:,1] represents the concentration of the substrate S-->x-axis\n",
    "#the plot will show how the velocity changes with the changes in substrate concentration \n",
    "plt.plot(y[:,1],v)\n",
    "#plt.xlabel('S(µM)') is to set the label of the x-axis in a plot. \n",
    "# In this case, the label is set to 'S(µM)', \n",
    "# which means the x-axis represents the concentration of the substrate in micromoles (µM).\n",
    "plt.xlabel('S(µM)')\n",
    "#plt.ylabel('v((µM)/min') is to set the label of the y-axis in a plot.\n",
    "# adding a label \"v(µM/min)\" to the y-axis of the plot \n",
    "plt.ylabel('v(µM/min)')\n",
    "#to display the plot generated by the plt.plot() function\n",
    "plt.show()\n",
    "\n",
    "# The plot was generated below \n",
    "# This suggestes velocity is negatively correlated with the concentration of substrate, \n",
    "# as the concentration of substrate increases, the rate of the reaction slows down"
   ]
  },
  {
   "cell_type": "code",
   "execution_count": null,
   "metadata": {},
   "outputs": [],
   "source": []
  },
  {
   "attachments": {},
   "cell_type": "markdown",
   "metadata": {},
   "source": [
    "References\n",
    "\n",
    "10.2: The Equations of Enzyme Kinetics. (2015, December 26). Chemistry LibreTexts. https://chem.libretexts.org/Bookshelves/Physical_and_Theoretical_Chemistry_Textbook_Maps/Map%3A_Physical_Chemistry_for_the_Biosciences_(Chang)/10%3A_Enzyme_Kinetics/10.02%3A_The_Equations_of_Enzyme_Kinetics\n",
    "\n",
    "OpenAI. (2021, September 10). Chat with ChatGPT about artificial intelligence [Online conversation]. OpenAI. https://openai.com/"
   ]
  }
 ],
 "metadata": {
  "kernelspec": {
   "display_name": "Python 3",
   "language": "python",
   "name": "python3"
  },
  "language_info": {
   "codemirror_mode": {
    "name": "ipython",
    "version": 3
   },
   "file_extension": ".py",
   "mimetype": "text/x-python",
   "name": "python",
   "nbconvert_exporter": "python",
   "pygments_lexer": "ipython3",
   "version": "3.10.5"
  },
  "varInspector": {
   "cols": {
    "lenName": 16,
    "lenType": 16,
    "lenVar": 40
   },
   "kernels_config": {
    "python": {
     "delete_cmd_postfix": "",
     "delete_cmd_prefix": "del ",
     "library": "var_list.py",
     "varRefreshCmd": "print(var_dic_list())"
    },
    "r": {
     "delete_cmd_postfix": ") ",
     "delete_cmd_prefix": "rm(",
     "library": "var_list.r",
     "varRefreshCmd": "cat(var_dic_list()) "
    }
   },
   "types_to_exclude": [
    "module",
    "function",
    "builtin_function_or_method",
    "instance",
    "_Feature"
   ],
   "window_display": false
  },
  "vscode": {
   "interpreter": {
    "hash": "8b5e4b4feea6090ad7a8ec163b85db5e48976201b4468340a0e05eb50964a409"
   }
  }
 },
 "nbformat": 4,
 "nbformat_minor": 2
}
